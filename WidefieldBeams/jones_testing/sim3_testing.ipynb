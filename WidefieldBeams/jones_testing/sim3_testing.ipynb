{
 "cells": [
  {
   "cell_type": "code",
   "execution_count": 35,
   "metadata": {
    "collapsed": true
   },
   "outputs": [],
   "source": [
    "import pylab as plt"
   ]
  },
  {
   "cell_type": "code",
   "execution_count": 38,
   "metadata": {
    "collapsed": true
   },
   "outputs": [],
   "source": [
    "from healpyTools import rotate_healpix_map as rhm"
   ]
  },
  {
   "cell_type": "code",
   "execution_count": 59,
   "metadata": {
    "collapsed": true
   },
   "outputs": [],
   "source": [
    "import numpy as np\n",
    "import healpy as hp\n",
    "import zm_tools as zt\n",
    "import instrumental_response_tensors as irt"
   ]
  },
  {
   "cell_type": "code",
   "execution_count": 146,
   "metadata": {
    "collapsed": true
   },
   "outputs": [],
   "source": [
    "nside = 64\n",
    "npix = hp.nside2npix(nside)\n",
    "rdindx = np.arange(npix) # healpix pixel index for Ra/Dec coords\n",
    "codec,ra = hp.pix2ang(nside,rdindx)\n",
    "# codec = np.pi - dec\n",
    "dec = np.pi - codec"
   ]
  },
  {
   "cell_type": "code",
   "execution_count": 155,
   "metadata": {
    "collapsed": true
   },
   "outputs": [],
   "source": [
    "# A constant sky in the za,ha basis and (ha,dec) coordinates\n",
    "\n",
    "\n",
    "    \n",
    "## A flat sky    \n",
    "if True:\n",
    "    I = 10. * np.ones(npix)\n",
    "    Q = 0. * np.ones(npix)\n",
    "    U = 0. * np.ones(npix)\n",
    "    V = 0. * np.ones(npix)\n",
    "\n",
    "\n",
    "\n",
    "# get an active rotation matrix to the z'-axis through (dec,ha)=(-26,0)\n",
    "dec0 = -26. # degrees\n",
    "ha0 = 0. # degrees\n",
    "codec0 = 90. - dec0 # degrees\n",
    "\n",
    "Rinv = hp.Rotator(rot=[0,-codec0,0])\n",
    "R = R.get_inverse()\n",
    "rotation_matrix = np.asarray(Rinv.mat)\n",
    "\n",
    "## A single point(ish) source at zenith:\n",
    "if False:\n",
    "    cele_pole_idx = [0,1,2,3]\n",
    "    cp_theta,cp_phi = hp.pix2ang(nside,cele_pole_idx)\n",
    "    z_theta,z_phi = R(cp_theta,cp_phi)\n",
    "    z_idx = hp.ang2pix(nside,z_theta,z_phi)\n",
    "    I = np.zeros(npix)\n",
    "    I[z_idx] = 10.\n",
    "    Q = 0. * np.ones(npix)\n",
    "    U = 0. * np.ones(npix)\n",
    "    V = 0. * np.ones(npix)\n",
    "\n",
    "sphr_basis_rotation = zt.get_sphr_rotation_matrix(codec,ra,rotation_matrix)"
   ]
  },
  {
   "cell_type": "code",
   "execution_count": 62,
   "metadata": {
    "collapsed": false,
    "scrolled": true
   },
   "outputs": [
    {
     "name": "stdout",
     "output_type": "stream",
     "text": [
      "pixels with no hits (0,)\n",
      "pixels with no hits (0,)\n",
      "pixels with no hits (0,)\n",
      "pixels with no hits (0,)\n",
      "pixels with no hits (0,)\n",
      "pixels with no hits (0,)\n",
      "pixels with no hits (0,)\n",
      "pixels with no hits (0,)\n"
     ]
    }
   ],
   "source": [
    "# get the HERA Jones matrix\n",
    "jones_data = irt.get_hera_jones_healpixellized_lores() # healpix maps\n",
    "\n",
    "jones_ae_ae = jones_data['jones'] # jones.shape = (2,2,npix). "
   ]
  },
  {
   "cell_type": "code",
   "execution_count": 156,
   "metadata": {
    "collapsed": true
   },
   "outputs": [],
   "source": [
    "# We define these maps to be in local Az/El coordinates, so lets change that:\n",
    "\n",
    "window_idx = np.where(codec < np.pi /2.) # treating codec as the theta coordinate\n",
    "beam_window = np.zeros(npix)\n",
    "beam_window[window_idx] = 1.\n",
    "\n",
    "theta0,phi0 = Rinv(codec,ra)\n",
    "ae0index = hp.ang2pix(nside,theta0,phi0)\n",
    "\n",
    "jones_hd_ae = jones_ae_ae[:,:,ae0index] \n",
    "beam_window0 = beam_window[ae0index]\n",
    "\n",
    "beam_window0_arr = np.repeat(beam_window0,4).reshape(npix,2,2).transpose((1,2,0))\n",
    "\n",
    "jones_masked_hd_ae = jones_hd_ae * beam_window0_arr\n",
    "\n",
    "\n",
    "# This is the Jones matrix that maps from the sky in the Az/El basis to the beam-weighted sky in the instrumental basis at time t = ha+ra = 0. \n",
    "# ((This is probably not quite right. The point is that we're going to rotate the scalar components to simulate the rotation of the instrument under the sky.))\n",
    "# However, the scalar components are to be considered functions of Ha/Dec.\n",
    "\n",
    "# Maybe this is a Class? Then it can have attributes like \"Coordinate system\" and \"Vector basis\" and methods to change between them, 'n stuff.\n",
    "\n",
    "jones_hd_hd = np.einsum('ab...,bc...->ac...',jones_masked_hd_ae,sphr_basis_rotation)\n",
    "\n",
    "jonesTc_hd_hd = np.conjugate(jones_hd_hd.transpose(1,0,2))\n",
    "\n",
    "sky_hd_hd = np.array([[I+Q,U -1.j *V],[U+1.j*V,I-Q]])\n",
    "\n",
    "## Lets see about some propagators for one baseline\n",
    "\n",
    "u,v = 50.,50.\n",
    "\n",
    "s = np.array(hp.pix2vec(nside,np.arange(npix)))\n",
    "b = np.outer(np.array([u,v]),np.ones(npix))\n",
    "\n",
    "b_dot_s = np.einsum('a...,a...',s[:2,:],b)\n",
    "nu = 150. * 10.**6. # Hz\n",
    "c = 299792458. # m/s\n",
    "\n",
    "propagator_ae = np.exp(1.j * nu * b_dot_s / c)\n",
    "propagator_hd = propagator_ae[ae0index]\n",
    "propagator_hd_arr = np.repeat(propagator_hd,4).reshape(npix,2,2).transpose((1,2,0))\n",
    "\n",
    "temp = np.einsum('ab...,bc...->ac...',sky_hd_hd,jonesTc_hd_hd)\n",
    "holographic_sky_hd_instr = np.einsum('ab...,bc...->ac...',jones_hd_hd,temp)\n",
    "\n",
    "vis_150_0 = np.sum(holographic_sky_hd_instr * propagator_hd_arr,axis=2)"
   ]
  },
  {
   "cell_type": "code",
   "execution_count": 157,
   "metadata": {
    "collapsed": false
   },
   "outputs": [
    {
     "name": "stdout",
     "output_type": "stream",
     "text": [
      "[[ 12.42408694-7.78386136j  -8.64195803-2.05735143j]\n",
      " [ 53.25479817-3.9073314j   13.75474128-9.00533988j]]\n"
     ]
    }
   ],
   "source": [
    "print vis_150_0"
   ]
  },
  {
   "cell_type": "code",
   "execution_count": 153,
   "metadata": {
    "collapsed": true
   },
   "outputs": [],
   "source": [
    "    cele_pole_idx = [0,1,2,3]\n",
    "    cp_theta,cp_phi = hp.pix2ang(nside,cele_pole_idx)\n",
    "    z_theta,z_phi = R(cp_theta,cp_phi)\n",
    "    z_idx = hp.ang2pix(nside,z_theta,z_phi)"
   ]
  },
  {
   "cell_type": "code",
   "execution_count": 154,
   "metadata": {
    "collapsed": false
   },
   "outputs": [
    {
     "name": "stdout",
     "output_type": "stream",
     "text": [
      "[ 1.  1.  1.  1.]\n",
      "[ 1.  1.  1.  1.]\n"
     ]
    }
   ],
   "source": [
    "print beam_window0[z_idx]\n",
    "print beam_window[[0,1,2,3]]"
   ]
  },
  {
   "cell_type": "code",
   "execution_count": 121,
   "metadata": {
    "collapsed": false
   },
   "outputs": [
    {
     "name": "stdout",
     "output_type": "stream",
     "text": [
      "[[[ 0.+0.j  0.+0.j]\n",
      "  [ 0.+0.j  0.+0.j]]\n",
      "\n",
      " [[ 0.+0.j  0.+0.j]\n",
      "  [ 0.+0.j  0.+0.j]]\n",
      "\n",
      " [[ 0.+0.j  0.+0.j]\n",
      "  [ 0.+0.j  0.+0.j]]\n",
      "\n",
      " [[ 0.+0.j  0.+0.j]\n",
      "  [ 0.+0.j  0.+0.j]]]\n"
     ]
    }
   ],
   "source": [
    "print jones_hd_hd[:,:,z_idx].transpose(2,0,1)"
   ]
  },
  {
   "cell_type": "code",
   "execution_count": 120,
   "metadata": {
    "collapsed": false
   },
   "outputs": [
    {
     "name": "stdout",
     "output_type": "stream",
     "text": [
      "[[[ 0.04759674+0.70275372j -0.52763882+0.46709615j]\n",
      "  [ 0.04647283+0.70213759j  0.04083421+0.70282716j]]\n",
      "\n",
      " [[-0.52644088+0.468525j   -0.53189902+0.46289208j]\n",
      "  [ 0.04101920+0.70249987j -0.53150743+0.46164769j]]\n",
      "\n",
      " [[-0.53134524+0.4629162j   0.04157543+0.70392665j]\n",
      "  [-0.53134984+0.46180844j -0.52828889+0.4659333j ]]\n",
      "\n",
      " [[ 0.04189387+0.70313873j  0.04577451+0.70318832j]\n",
      "  [-0.52661020+0.4672289j   0.04446058+0.70297312j]]]\n"
     ]
    }
   ],
   "source": [
    "print jones_ae_ae[:,:,[0,1,2,3]].transpose(2,0,1)"
   ]
  },
  {
   "cell_type": "code",
   "execution_count": 86,
   "metadata": {
    "collapsed": true
   },
   "outputs": [],
   "source": [
    "hp.mollview(I)\n",
    "plt.show()"
   ]
  },
  {
   "cell_type": "code",
   "execution_count": 150,
   "metadata": {
    "collapsed": true
   },
   "outputs": [],
   "source": [
    "hp.mollview(beam_window)\n",
    "hp.mollview(beam_window0_arr[0,1,:])\n",
    "plt.show()"
   ]
  },
  {
   "cell_type": "code",
   "execution_count": 92,
   "metadata": {
    "collapsed": false
   },
   "outputs": [],
   "source": [
    "hp.orthview(np.arctan2(propagator_hd.real,propagator_hd.imag))\n",
    "plt.show()"
   ]
  },
  {
   "cell_type": "code",
   "execution_count": 93,
   "metadata": {
    "collapsed": true
   },
   "outputs": [],
   "source": [
    "Rinv = R.get_inverse()"
   ]
  },
  {
   "cell_type": "code",
   "execution_count": 94,
   "metadata": {
    "collapsed": false
   },
   "outputs": [
    {
     "name": "stdout",
     "output_type": "stream",
     "text": [
      "[[-0.43837115  0.         -0.89879405]\n",
      " [ 0.          1.          0.        ]\n",
      " [ 0.89879405  0.         -0.43837115]]\n",
      "[[-0.43837115  0.          0.89879405]\n",
      " [ 0.          1.          0.        ]\n",
      " [-0.89879405  0.         -0.43837115]]\n"
     ]
    }
   ],
   "source": [
    "print Rinv.mat\n",
    "print R.mat"
   ]
  },
  {
   "cell_type": "code",
   "execution_count": 151,
   "metadata": {
    "collapsed": true
   },
   "outputs": [],
   "source": [
    "dirx = np.abs(jones_hd_hd[0,0,:])**2. + np.abs(jones_hd_hd[0,1,:])**2."
   ]
  },
  {
   "cell_type": "code",
   "execution_count": 152,
   "metadata": {
    "collapsed": true
   },
   "outputs": [],
   "source": [
    "hp.mollview(dirx)\n",
    "plt.show()"
   ]
  },
  {
   "cell_type": "code",
   "execution_count": 110,
   "metadata": {
    "collapsed": false
   },
   "outputs": [
    {
     "data": {
      "text/plain": [
       "35455"
      ]
     },
     "execution_count": 110,
     "metadata": {},
     "output_type": "execute_result"
    }
   ],
   "source": [
    "np.where(dirx == dirx.max())[0][0]"
   ]
  },
  {
   "cell_type": "code",
   "execution_count": 112,
   "metadata": {
    "collapsed": false
   },
   "outputs": [
    {
     "data": {
      "text/plain": [
       "array([35327, 35584, 35584, 35328])"
      ]
     },
     "execution_count": 112,
     "metadata": {},
     "output_type": "execute_result"
    }
   ],
   "source": [
    "z_idx"
   ]
  },
  {
   "cell_type": "code",
   "execution_count": 119,
   "metadata": {
    "collapsed": true
   },
   "outputs": [],
   "source": [
    "testI = np.zeros(npix)\n",
    "testI[z_idx] = 10.\n",
    "hp.mollview(dirx)\n",
    "hp.mollview(testI)\n",
    "plt.show()"
   ]
  },
  {
   "cell_type": "code",
   "execution_count": 130,
   "metadata": {
    "collapsed": false
   },
   "outputs": [
    {
     "data": {
      "text/plain": [
       "(2, 2, 49152)"
      ]
     },
     "execution_count": 130,
     "metadata": {},
     "output_type": "execute_result"
    }
   ],
   "source": [
    "sphr_basis_rotation.shape"
   ]
  },
  {
   "cell_type": "code",
   "execution_count": 145,
   "metadata": {
    "collapsed": false
   },
   "outputs": [],
   "source": [
    "hp.orthview(rhm(sphr_basis_rotation[0,1,:],rot=[180,90]))\n",
    "plt.show()"
   ]
  },
  {
   "cell_type": "code",
   "execution_count": null,
   "metadata": {
    "collapsed": true
   },
   "outputs": [],
   "source": []
  }
 ],
 "metadata": {
  "kernelspec": {
   "display_name": "Python 2",
   "language": "python",
   "name": "python2"
  },
  "language_info": {
   "codemirror_mode": {
    "name": "ipython",
    "version": 2
   },
   "file_extension": ".py",
   "mimetype": "text/x-python",
   "name": "python",
   "nbconvert_exporter": "python",
   "pygments_lexer": "ipython2",
   "version": "2.7.11"
  }
 },
 "nbformat": 4,
 "nbformat_minor": 0
}
