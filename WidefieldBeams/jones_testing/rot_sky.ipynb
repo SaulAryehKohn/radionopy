{
 "cells": [
  {
   "cell_type": "code",
   "execution_count": 1,
   "metadata": {
    "collapsed": true
   },
   "outputs": [],
   "source": [
    "import numpy as np\n",
    "import healpy as hp"
   ]
  },
  {
   "cell_type": "code",
   "execution_count": 2,
   "metadata": {
    "collapsed": true
   },
   "outputs": [],
   "source": [
    "sky_data_savepath = '/home/zmart/radcos/zvis_sim/test_sky_stokes_data.npz'\n",
    "sky_data_npz = np.load(sky_data_savepath)\n",
    "\n",
    "stokesI = sky_data_npz['I']\n",
    "stokesQ = sky_data_npz['Q']\n",
    "stokesU = sky_data_npz['U']\n",
    "stokesV = sky_data_npz['V']"
   ]
  },
  {
   "cell_type": "code",
   "execution_count": 3,
   "metadata": {
    "collapsed": true
   },
   "outputs": [],
   "source": [
    "cDD = stokesI + stokesQ\n",
    "cDH = stokesU + 1.j * stokesV\n",
    "cHD = np.conjugate(cDH)\n",
    "cHH = stokesI - stokesQ"
   ]
  },
  {
   "cell_type": "code",
   "execution_count": 15,
   "metadata": {
    "collapsed": false
   },
   "outputs": [],
   "source": [
    "npix = cDD.shape[0]\n",
    "nside = hp.npix2nside(npix)\n",
    "pixindex1 = np.arange(npix)"
   ]
  },
  {
   "cell_type": "code",
   "execution_count": 5,
   "metadata": {
    "collapsed": true
   },
   "outputs": [],
   "source": [
    "coher_tensor = np.array([[cDD,cHD],[cDH,cHH]])"
   ]
  },
  {
   "cell_type": "code",
   "execution_count": 6,
   "metadata": {
    "collapsed": false
   },
   "outputs": [
    {
     "data": {
      "text/plain": [
       "(2, 2, 49152)"
      ]
     },
     "execution_count": 6,
     "metadata": {},
     "output_type": "execute_result"
    }
   ],
   "source": [
    "coher_tensor.shape"
   ]
  },
  {
   "cell_type": "code",
   "execution_count": 96,
   "metadata": {
    "collapsed": true
   },
   "outputs": [],
   "source": [
    "def t_hat_cart(t,p):\n",
    "    \"\"\" Calculate the theta_hat vector at a given point (t,p) \"\"\"\n",
    "    thx = np.cos(t)*np.cos(p)\n",
    "    thy = np.cos(t)*np.sin(p)\n",
    "    thz = -np.sin(t)\n",
    "    return np.stack((thx,thy,thz))\n",
    "\n",
    "def p_hat_cart(t,p):\n",
    "    \"\"\" Calculate the phi_hat vector at a given point (t,p) \"\"\"\n",
    "    phx = -np.sin(p)#/np.cos(t)\n",
    "    phy = np.cos(p)#/np.cos(t)\n",
    "    phz = np.zeros_like(p)\n",
    "    return np.stack((phx,phy,phz))\n",
    "\n",
    "def r_hat_cart(t,p):\n",
    "    \"\"\" Calculate the r_hat vector at a given point (t,p) \"\"\"\n",
    "    rx = np.sin(t)*np.cos(p)\n",
    "    ry = np.sin(t)*np.sin(p)\n",
    "    rz = np.cos(t)\n",
    "    return np.stack((rx,ry,rz))\n",
    "def vrot(vector,theta,phi,rot):\n",
    "    \"\"\" \n",
    "        Given a 3-D unit vector specifying the vector field at (theta,phi),\n",
    "        rotate this field by rot and return the new vector at the new point \n",
    "    \"\"\"\n",
    "    R = hp.Rotator(rot=rot)\n",
    "    rvector = R(vector)\n",
    "    rtheta,rphi = R(theta,phi)\n",
    "    return (rvector,rtheta,rphi)"
   ]
  },
  {
   "cell_type": "markdown",
   "metadata": {
    "collapsed": true
   },
   "source": [
    "We can define the $\\cos$ and $\\sin$ of the angle between orthogonal bases by: \n",
    "\\begin{equation}\n",
    "\\begin{array}{lll}\n",
    "\\cos\\chi & = & \\hat{\\theta} \\cdot \\hat{\\theta}' \\\\\n",
    "\\sin\\chi & = & \\hat{\\theta} \\cdot \\hat{\\phi}' \\\\\n",
    "\\end{array}\n",
    "\\end{equation}"
   ]
  },
  {
   "cell_type": "code",
   "execution_count": 99,
   "metadata": {
    "collapsed": true
   },
   "outputs": [],
   "source": [
    "rot = [0,126]"
   ]
  },
  {
   "cell_type": "code",
   "execution_count": 100,
   "metadata": {
    "collapsed": false
   },
   "outputs": [],
   "source": [
    "theta1,phi1 = hp.pix2ang(nside,pixindex1)"
   ]
  },
  {
   "cell_type": "code",
   "execution_count": 101,
   "metadata": {
    "collapsed": false
   },
   "outputs": [],
   "source": [
    "rotation_op = hp.Rotator(rot=rot)"
   ]
  },
  {
   "cell_type": "code",
   "execution_count": 102,
   "metadata": {
    "collapsed": true
   },
   "outputs": [],
   "source": [
    "# A set of coordinate points to mess around with\n",
    "angA = (np.arange(6)+1.)*np.pi/12.\n",
    "angB = (np.arange(6)+1.)*np.pi/12."
   ]
  },
  {
   "cell_type": "code",
   "execution_count": 103,
   "metadata": {
    "collapsed": true
   },
   "outputs": [],
   "source": [
    "# The image points in the rotated coordinate system\n",
    "angAR, angBR = rotation_op(angA,angB)"
   ]
  },
  {
   "cell_type": "code",
   "execution_count": 104,
   "metadata": {
    "collapsed": true
   },
   "outputs": [],
   "source": [
    "# The spherical basis vectors of the starting coordinate system\n",
    "# projected to cartesian coordinates\n",
    "t_cart = t_hat_cart(angA,angB)\n",
    "p_cart = p_hat_cart(angA,angB)"
   ]
  },
  {
   "cell_type": "code",
   "execution_count": 105,
   "metadata": {
    "collapsed": true
   },
   "outputs": [],
   "source": [
    "t_cartR = rotation_op(t_cart)\n",
    "p_cartR = rotation_op(p_cart)"
   ]
  },
  {
   "cell_type": "code",
   "execution_count": 106,
   "metadata": {
    "collapsed": true
   },
   "outputs": [],
   "source": [
    "ttcos = np.einsum('a...,a...',t_cart,t_cartR)\n",
    "tpsin = np.einsum('a...,a...',t_cart,p_cartR)"
   ]
  },
  {
   "cell_type": "code",
   "execution_count": 107,
   "metadata": {
    "collapsed": true
   },
   "outputs": [],
   "source": [
    "ppcos = np.einsum('a...,a...',p_cart,p_cartR)\n",
    "ptsin = np.einsum('a...,a...',p_cart,t_cartR)"
   ]
  },
  {
   "cell_type": "code",
   "execution_count": 108,
   "metadata": {
    "collapsed": false
   },
   "outputs": [
    {
     "name": "stdout",
     "output_type": "stream",
     "text": [
      "[-0.48854867 -0.29007552 -0.19083894 -0.29007552 -0.48854867 -0.58778525]\n",
      "[ 0.32922683  0.39316522  0.15685836 -0.26299715 -0.65208587 -0.80901699]\n",
      "[ 0.43761456  0.79767372  0.96587536  0.95052834  0.8575604   0.80901699]\n",
      "[ 0.89363856  0.60305369  0.20610737 -0.19083894 -0.48142381 -0.58778525]\n"
     ]
    }
   ],
   "source": [
    "print ttcos\n",
    "print tpsin\n",
    "print ptsin\n",
    "print ppcos"
   ]
  },
  {
   "cell_type": "code",
   "execution_count": 109,
   "metadata": {
    "collapsed": false
   },
   "outputs": [
    {
     "name": "stdout",
     "output_type": "stream",
     "text": [
      "[-0.58066039 -0.48854867 -0.19083894  0.30534395  0.79440198  1.        ]\n"
     ]
    }
   ],
   "source": [
    "detrot = ttcos*ppcos -tpsin*ptsin\n",
    "print detrot"
   ]
  },
  {
   "cell_type": "code",
   "execution_count": 112,
   "metadata": {
    "collapsed": false
   },
   "outputs": [
    {
     "name": "stdout",
     "output_type": "stream",
     "text": [
      "[ 6.07701396  1.04605934  0.65475574  0.77999601  0.93719173  1.        ]\n"
     ]
    }
   ],
   "source": [
    "print (np.sin(angAR)**2.)/(np.sin(angA)**2.)"
   ]
  },
  {
   "cell_type": "code",
   "execution_count": null,
   "metadata": {
    "collapsed": true
   },
   "outputs": [],
   "source": []
  }
 ],
 "metadata": {
  "kernelspec": {
   "display_name": "Python 2",
   "language": "python",
   "name": "python2"
  },
  "language_info": {
   "codemirror_mode": {
    "name": "ipython",
    "version": 2
   },
   "file_extension": ".py",
   "mimetype": "text/x-python",
   "name": "python",
   "nbconvert_exporter": "python",
   "pygments_lexer": "ipython2",
   "version": "2.7.11"
  }
 },
 "nbformat": 4,
 "nbformat_minor": 0
}
