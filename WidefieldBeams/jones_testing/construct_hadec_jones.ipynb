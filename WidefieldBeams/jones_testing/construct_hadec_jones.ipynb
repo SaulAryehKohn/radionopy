{
 "cells": [
  {
   "cell_type": "code",
   "execution_count": 162,
   "metadata": {
    "collapsed": false
   },
   "outputs": [],
   "source": [
    "import numpy as np\n",
    "import healpy as hp\n",
    "import zm_tools as zt\n",
    "import instrumental_response_tensors as irt"
   ]
  },
  {
   "cell_type": "code",
   "execution_count": 10,
   "metadata": {
    "collapsed": true
   },
   "outputs": [],
   "source": [
    "import pylab as plt"
   ]
  },
  {
   "cell_type": "code",
   "execution_count": 11,
   "metadata": {
    "collapsed": false
   },
   "outputs": [
    {
     "name": "stdout",
     "output_type": "stream",
     "text": [
      "pixels with no hits (0,)\n",
      "pixels with no hits (0,)\n",
      "pixels with no hits (0,)\n",
      "pixels with no hits (0,)\n",
      "pixels with no hits (0,)\n",
      "pixels with no hits (0,)\n",
      "pixels with no hits (0,)\n",
      "pixels with no hits (0,)\n"
     ]
    }
   ],
   "source": [
    "jones_data = irt.get_hera_jones_healpixellized_lores()"
   ]
  },
  {
   "cell_type": "code",
   "execution_count": 12,
   "metadata": {
    "collapsed": false
   },
   "outputs": [],
   "source": [
    "jones = jones_data['jones']\n",
    "nside = jones_data['nside']\n",
    "npix = hp.nside2npix(nside)\n",
    "pixindex = np.arange(npix)\n",
    "theta,phi = hp.pix2ang(nside,pixindex)"
   ]
  },
  {
   "cell_type": "code",
   "execution_count": 166,
   "metadata": {
    "collapsed": false
   },
   "outputs": [],
   "source": [
    "mueller = irt.jones_to_mueller(jones)"
   ]
  },
  {
   "cell_type": "code",
   "execution_count": 24,
   "metadata": {
    "collapsed": true
   },
   "outputs": [],
   "source": [
    "diry = np.real(jones[1,1,:]*np.conjugate(jones[1,1,:])+\\\n",
    "    jones[1,0,:]*np.conjugate(jones[1,0,:]))"
   ]
  },
  {
   "cell_type": "code",
   "execution_count": 7,
   "metadata": {
    "collapsed": false,
    "scrolled": true
   },
   "outputs": [],
   "source": [
    "hp.orthview(dirx,rot=[0,90],half_sky=True)\n",
    "hp.orthview(diry,rot=[0,90],half_sky=True)\n",
    "plt.show()"
   ]
  },
  {
   "cell_type": "code",
   "execution_count": null,
   "metadata": {
    "collapsed": true
   },
   "outputs": [],
   "source": [
    "hp.mollview(dirx,rot=[0,90])\n",
    "hp.mollview(diry,rot=[0,90])\n",
    "plt.show()"
   ]
  },
  {
   "cell_type": "code",
   "execution_count": 210,
   "metadata": {
    "collapsed": false
   },
   "outputs": [],
   "source": [
    "# get an active rotation matrix to the z'-axis through (lat,lon)=(-26,0)\n",
    "lat0 = -26. # degrees\n",
    "lon0 = 0. # degrees\n",
    "colat0 = 90. - lat0 # degrees\n",
    "\n",
    "R0 = hp.Rotator([0,colat0,0])\n",
    "eulermat0 = np.asarray(R0.mat)\n",
    "\n",
    "sphr_rot0 = zt.get_sphr_rotation_matrix(theta,phi,eulermat0)\n",
    "j0 = np.einsum('ab...,bc...->ac...',jones,sphr_rot0)\n",
    "mueller0 = kjones.jones_to_mueller(j0)"
   ]
  },
  {
   "cell_type": "code",
   "execution_count": 211,
   "metadata": {
    "collapsed": true
   },
   "outputs": [],
   "source": [
    "lon1 = 90.\n",
    "\n",
    "R1 = hp.Rotator([lon1,colat0,0])\n",
    "eulermat1 = np.asarray(R1.mat)\n",
    "\n",
    "sphr_rot1 =zt.get_sphr_rotation_matrix(theta,phi,eulermat1)\n",
    "j1 = np.einsum('ab...,bc...->ac...',jones,sphr_rot1)\n",
    "mueller1 = kjones.jones_to_mueller(j1)"
   ]
  },
  {
   "cell_type": "code",
   "execution_count": 212,
   "metadata": {
    "collapsed": true
   },
   "outputs": [],
   "source": [
    "lon2 = 180.\n",
    "\n",
    "R2 = hp.Rotator([lon2,colat0,0])\n",
    "eulermat2 = np.asarray(R2.mat)\n",
    "\n",
    "sphr_rot2 = zt.get_sphr_rotation_matrix(theta,phi,eulermat2)\n",
    "j2 = np.einsum('ab...,bc...->ac...',jones,sphr_rot2)\n",
    "mueller2 = kjones.jones_to_mueller(j2)"
   ]
  },
  {
   "cell_type": "code",
   "execution_count": 213,
   "metadata": {
    "collapsed": true
   },
   "outputs": [],
   "source": [
    "lon3 = 270.\n",
    "\n",
    "R3 = hp.Rotator([lon3,colat0,0])\n",
    "eulermat3 = np.asarray(R3.mat)\n",
    "\n",
    "sphr_rot3 = zt.get_sphr_rotation_matrix(theta,phi,eulermat3)\n",
    "j3 = np.einsum('ab...,bc...->ac...',jones,sphr_rot3)\n",
    "mueller3 = kjones.jones_to_mueller(j3)"
   ]
  },
  {
   "cell_type": "code",
   "execution_count": 221,
   "metadata": {
    "collapsed": false
   },
   "outputs": [
    {
     "name": "stdout",
     "output_type": "stream",
     "text": [
      "[ 0.05743623+0.6939135j  -0.51642530+0.459807j   -0.53049388+0.47574156j\n",
      "  0.04272562+0.71590601j  0.80918698+0.3296842j   0.36046965+0.33385997j\n",
      " -0.41088875+0.02422169j -0.79342058-0.32918356j -0.79573459-0.32463533j\n",
      " -0.41258727+0.00940404j  0.35411694+0.33785901j  0.80706419+0.33443897j\n",
      "  0.84097336+0.34999447j  0.65969005+0.27712365j  0.28652144+0.24757622j\n",
      " -0.24305867+0.03566899j -0.59038824-0.24295114j -0.83182006-0.35149126j\n",
      " -0.83364038-0.34826118j -0.59084762-0.24690797j]\n"
     ]
    }
   ],
   "source": [
    "print j0[0,0,0:20]"
   ]
  },
  {
   "cell_type": "code",
   "execution_count": 218,
   "metadata": {
    "collapsed": true
   },
   "outputs": [],
   "source": [
    "i,j = 0,2"
   ]
  },
  {
   "cell_type": "code",
   "execution_count": 220,
   "metadata": {
    "collapsed": true
   },
   "outputs": [],
   "source": [
    "hp.orthview(mueller0[i,j,:],rot=[0,90],half_sky=True)\n",
    "hp.orthview(mueller1[i,j,:],rot=[0,90],half_sky=True)\n",
    "hp.orthview(mueller2[i,j,:],rot=[0,90],half_sky=True)\n",
    "hp.orthview(mueller3[i,j,:],rot=[0,90],half_sky=True)\n",
    "plt.show()"
   ]
  },
  {
   "cell_type": "code",
   "execution_count": 216,
   "metadata": {
    "collapsed": true
   },
   "outputs": [],
   "source": [
    "hp.mollview(mueller0[i,j,:],rot=[0,90])\n",
    "hp.mollview(mueller1[i,j,:],rot=[0,90])\n",
    "hp.mollview(mueller2[i,j,:],rot=[0,90])\n",
    "hp.mollview(mueller3[i,j,:],rot=[0,90])\n",
    "plt.show()"
   ]
  },
  {
   "cell_type": "code",
   "execution_count": 195,
   "metadata": {
    "collapsed": true
   },
   "outputs": [],
   "source": [
    "hp.orthview(mueller0[i,j,:]-mueller1[i,j,:],rot=[0,90],half_sky=True)\n",
    "hp.orthview(mueller0[i,j,:]-mueller2[i,j,:],rot=[0,90],half_sky=True)\n",
    "hp.orthview(mueller1[i,j,:]-mueller2[i,j,:],rot=[0,90],half_sky=True)\n",
    "plt.show()"
   ]
  },
  {
   "cell_type": "code",
   "execution_count": 196,
   "metadata": {
    "collapsed": true
   },
   "outputs": [],
   "source": [
    "hp.mollview(mueller0[i,j,:]-mueller1[i,j,:],rot=[0,90])\n",
    "hp.mollview(mueller0[i,j,:]-mueller2[i,j,:],rot=[0,90])\n",
    "hp.mollview(mueller1[i,j,:]-mueller2[i,j,:],rot=[0,90])\n",
    "plt.show()"
   ]
  },
  {
   "cell_type": "code",
   "execution_count": 222,
   "metadata": {
    "collapsed": true
   },
   "outputs": [],
   "source": [
    "hp.orthview(mueller[0,3,:],rot=[0,90],half_sky=True)\n",
    "plt.show()"
   ]
  },
  {
   "cell_type": "code",
   "execution_count": null,
   "metadata": {
    "collapsed": true
   },
   "outputs": [],
   "source": []
  }
 ],
 "metadata": {
  "kernelspec": {
   "display_name": "Python 2",
   "language": "python",
   "name": "python2"
  },
  "language_info": {
   "codemirror_mode": {
    "name": "ipython",
    "version": 2
   },
   "file_extension": ".py",
   "mimetype": "text/x-python",
   "name": "python",
   "nbconvert_exporter": "python",
   "pygments_lexer": "ipython2",
   "version": "2.7.11"
  }
 },
 "nbformat": 4,
 "nbformat_minor": 0
}
