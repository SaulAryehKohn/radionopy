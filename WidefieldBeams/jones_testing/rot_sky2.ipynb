{
 "cells": [
  {
   "cell_type": "code",
   "execution_count": 1,
   "metadata": {
    "collapsed": true
   },
   "outputs": [],
   "source": [
    "import numpy as np\n",
    "import healpy as hp"
   ]
  },
  {
   "cell_type": "code",
   "execution_count": 2,
   "metadata": {
    "collapsed": false
   },
   "outputs": [],
   "source": [
    "import shtns"
   ]
  },
  {
   "cell_type": "code",
   "execution_count": 3,
   "metadata": {
    "collapsed": true
   },
   "outputs": [],
   "source": [
    "import math"
   ]
  },
  {
   "cell_type": "code",
   "execution_count": 4,
   "metadata": {
    "collapsed": true
   },
   "outputs": [],
   "source": [
    "import pylab as plt"
   ]
  },
  {
   "cell_type": "code",
   "execution_count": 5,
   "metadata": {
    "collapsed": true
   },
   "outputs": [],
   "source": [
    "import healpyTools as hpt"
   ]
  },
  {
   "cell_type": "code",
   "execution_count": 6,
   "metadata": {
    "collapsed": true
   },
   "outputs": [],
   "source": [
    "import zm_tools as zt"
   ]
  },
  {
   "cell_type": "code",
   "execution_count": 7,
   "metadata": {
    "collapsed": true
   },
   "outputs": [],
   "source": [
    "import kjones"
   ]
  },
  {
   "cell_type": "code",
   "execution_count": 8,
   "metadata": {
    "collapsed": true
   },
   "outputs": [],
   "source": [
    "import polarization_field_transform as pft"
   ]
  },
  {
   "cell_type": "code",
   "execution_count": 9,
   "metadata": {
    "collapsed": false
   },
   "outputs": [],
   "source": [
    "nside = 2**1\n",
    "npix = hp.nside2npix(nside)\n",
    "map1 = np.arange(npix)+1."
   ]
  },
  {
   "cell_type": "code",
   "execution_count": 10,
   "metadata": {
    "collapsed": false
   },
   "outputs": [],
   "source": [
    "I = 10.\n",
    "Q = 6.\n",
    "U = -4.\n",
    "V = 2.\n",
    "\n",
    "const_coher_tensor = np.array([[I + Q,U - 1.j*V],[U + 1.j*V,I-Q]])"
   ]
  },
  {
   "cell_type": "code",
   "execution_count": 11,
   "metadata": {
    "collapsed": false
   },
   "outputs": [],
   "source": [
    "sky = const_coher_tensor.reshape(2,2,1).repeat(npix,2)"
   ]
  },
  {
   "cell_type": "code",
   "execution_count": 12,
   "metadata": {
    "collapsed": true
   },
   "outputs": [],
   "source": [
    "def t_hat_cart(t,p):\n",
    "    \"\"\" Calculate the theta_hat vector at a given point (t,p) \"\"\"\n",
    "    thx = np.cos(t)*np.cos(p)\n",
    "    thy = np.cos(t)*np.sin(p)\n",
    "    thz = -np.sin(t)\n",
    "    return np.stack((thx,thy,thz))\n",
    "\n",
    "def p_hat_cart(t,p):\n",
    "    \"\"\" Calculate the phi_hat vector at a given point (t,p) \"\"\"\n",
    "    phx = -np.sin(p)#/np.cos(t)\n",
    "    phy = np.cos(p)#/np.cos(t)\n",
    "    phz = np.zeros_like(p)\n",
    "    return np.stack((phx,phy,phz))\n",
    "\n",
    "def r_hat_cart(t,p):\n",
    "    \"\"\" Calculate the r_hat vector at a given point (t,p) \"\"\"\n",
    "    rx = np.sin(t)*np.cos(p)\n",
    "    ry = np.sin(t)*np.sin(p)\n",
    "    rz = np.cos(t)\n",
    "    return np.stack((rx,ry,rz))\n",
    "def vrot(vector,theta,phi,rot):\n",
    "    \"\"\" \n",
    "        Given a 3-D unit vector specifying the vector field at (theta,phi),\n",
    "        rotate this field by rot and return the new vector at the new point \n",
    "    \"\"\"\n",
    "    R = hp.Rotator(rot=rot)\n",
    "    rvector = R(vector)\n",
    "    rtheta,rphi = R(theta,phi)\n",
    "    return (rvector,rtheta,rphi)"
   ]
  },
  {
   "cell_type": "code",
   "execution_count": 13,
   "metadata": {
    "collapsed": true
   },
   "outputs": [],
   "source": [
    "def get_sphr_rotation_matrix(angle1,angle2,rotation_matrix):\n",
    "    rotmat = np.asarray(rotation_matrix)\n",
    "    \n",
    "    vec0 = np.array([0,0,1])\n",
    "    \n",
    "    x = np.cos(phi)*np.sin(theta)\n",
    "    y = np.sin(phi)*np.sin(theta)\n",
    "    z = np.cos(theta)\n",
    "    \n",
    "    in_uvec = np.stack((x,y,z)) # the cartesian position vectors on the unit sphere.\n",
    "    \n",
    "    vec = np.einsum('ab...,b...->a...',rotmat,in_uvec)\n",
    "    vec0 = np.einsum('ba,b->a',rotmat,vec0)\n",
    "    \n",
    "    sin_psi = vec0[1]*in_uvec[0,:] - vec0[0]*in_uvec[1,:]\n",
    "    cos_psi = -vec0[2] + vec[2,:]*in_uvec[1,:]\n",
    "    \n",
    "    norm = sin_psi**2. + cos_psi**2. # this is effectively the determinant of the \n",
    "    \n",
    "    sin_psi /= np.sqrt(norm)\n",
    "    cos_psi /= np.sqrt(norm)\n",
    "    \n",
    "    return np.array([[cos_psi,sin_psi],[-sin_psi,cos_psi]])\n",
    "#    return cos_psi,sin_psi"
   ]
  },
  {
   "cell_type": "code",
   "execution_count": 14,
   "metadata": {
    "collapsed": false
   },
   "outputs": [],
   "source": [
    "skyI = zt.stokes_project(sky,'I')\n",
    "skyQ = zt.stokes_project(sky,'Q')\n",
    "skyU = zt.stokes_project(sky,'U')\n",
    "skyV = zt.stokes_project(sky,'V')"
   ]
  },
  {
   "cell_type": "code",
   "execution_count": 15,
   "metadata": {
    "collapsed": false
   },
   "outputs": [],
   "source": [
    "pixindex = np.arange(npix)\n",
    "theta,phi = hp.pix2ang(nside,pixindex)\n",
    "rotation_matrix = zt.rotation_matrix([0,1,0],np.pi/4.)\n",
    "Q = skyQ\n",
    "U = skyU"
   ]
  },
  {
   "cell_type": "code",
   "execution_count": 16,
   "metadata": {
    "collapsed": false
   },
   "outputs": [],
   "source": [
    "sphr_rot = get_sphr_rotation_matrix(theta,phi,rotation_matrix)"
   ]
  },
  {
   "cell_type": "code",
   "execution_count": 17,
   "metadata": {
    "collapsed": false
   },
   "outputs": [],
   "source": [
    "# rotsky = np.empty_like(sky)\n",
    "rotsky = np.einsum('ab...,bc...,dc...->ad...',sphr_rot,sky,sphr_rot)"
   ]
  },
  {
   "cell_type": "code",
   "execution_count": 18,
   "metadata": {
    "collapsed": false
   },
   "outputs": [
    {
     "data": {
      "text/plain": [
       "(2, 2, 48)"
      ]
     },
     "execution_count": 18,
     "metadata": {},
     "output_type": "execute_result"
    }
   ],
   "source": [
    "rotsky.shape"
   ]
  },
  {
   "cell_type": "code",
   "execution_count": 19,
   "metadata": {
    "collapsed": false
   },
   "outputs": [],
   "source": [
    "rotskyI = zt.stokes_project(rotsky,'I')\n",
    "rotskyQ = zt.stokes_project(rotsky,'Q')\n",
    "rotskyU = zt.stokes_project(rotsky,'U')\n",
    "rotskyV = zt.stokes_project(rotsky,'V')"
   ]
  },
  {
   "cell_type": "code",
   "execution_count": 20,
   "metadata": {
    "collapsed": false
   },
   "outputs": [],
   "source": [
    "Qnew,Unew = zt.linear_pol_coord_transform(theta,phi,rotation_matrix,Q,U)"
   ]
  },
  {
   "cell_type": "code",
   "execution_count": 21,
   "metadata": {
    "collapsed": false
   },
   "outputs": [],
   "source": [
    "jones_data = kjones.get_hera_jones()"
   ]
  },
  {
   "cell_type": "code",
   "execution_count": 22,
   "metadata": {
    "collapsed": false
   },
   "outputs": [],
   "source": [
    "jones = jones_data['jones']\n",
    "theta_j = jones_data['theta']\n",
    "phi_j = jones_data['phi']"
   ]
  },
  {
   "cell_type": "code",
   "execution_count": 23,
   "metadata": {
    "collapsed": false
   },
   "outputs": [
    {
     "data": {
      "text/plain": [
       "(2, 2, 65160)"
      ]
     },
     "execution_count": 23,
     "metadata": {},
     "output_type": "execute_result"
    }
   ],
   "source": [
    "jones.shape"
   ]
  },
  {
   "cell_type": "code",
   "execution_count": 27,
   "metadata": {
    "collapsed": true
   },
   "outputs": [],
   "source": [
    "lmax = 178\n",
    "mmax = lmax\n",
    "sh = shtns.sht(lmax,mmax)"
   ]
  },
  {
   "cell_type": "code",
   "execution_count": 30,
   "metadata": {
    "collapsed": true
   },
   "outputs": [],
   "source": [
    "nlat = 180\n",
    "nphi = 360\n",
    "grid_type = shtns.sht_reg_fast\n",
    "polar_opt_threshold = 1.0e-10"
   ]
  },
  {
   "cell_type": "code",
   "execution_count": 31,
   "metadata": {
    "collapsed": false
   },
   "outputs": [
    {
     "data": {
      "text/plain": [
       "[180, 360]"
      ]
     },
     "execution_count": 31,
     "metadata": {},
     "output_type": "execute_result"
    }
   ],
   "source": [
    "sh.set_grid(nlat,nphi,flags=grid_type,polar_opt=polar_opt_threshold)"
   ]
  },
  {
   "cell_type": "code",
   "execution_count": 32,
   "metadata": {
    "collapsed": true
   },
   "outputs": [],
   "source": [
    "el = sh.l"
   ]
  },
  {
   "cell_type": "code",
   "execution_count": 37,
   "metadata": {
    "collapsed": true
   },
   "outputs": [],
   "source": [
    "xy_beam = sh.spat_array()"
   ]
  },
  {
   "cell_type": "code",
   "execution_count": 38,
   "metadata": {
    "collapsed": true
   },
   "outputs": [],
   "source": [
    "xy_beam_ylm = sh.spec_array()"
   ]
  },
  {
   "cell_type": "code",
   "execution_count": 42,
   "metadata": {
    "collapsed": false
   },
   "outputs": [
    {
     "data": {
      "text/plain": [
       "(180, 360)"
      ]
     },
     "execution_count": 42,
     "metadata": {},
     "output_type": "execute_result"
    }
   ],
   "source": [
    "xy_beam.shape"
   ]
  },
  {
   "cell_type": "code",
   "execution_count": 43,
   "metadata": {
    "collapsed": true
   },
   "outputs": [],
   "source": [
    "j_tx = jones[0,0,:]"
   ]
  },
  {
   "cell_type": "code",
   "execution_count": 59,
   "metadata": {
    "collapsed": false
   },
   "outputs": [],
   "source": [
    "theta_v, phi_v = np.meshgrid(np.arange(360)*np.pi/359.,np.arange(180)*np.pi/179.)"
   ]
  },
  {
   "cell_type": "code",
   "execution_count": 60,
   "metadata": {
    "collapsed": false
   },
   "outputs": [
    {
     "data": {
      "text/plain": [
       "(180, 360)"
      ]
     },
     "execution_count": 60,
     "metadata": {},
     "output_type": "execute_result"
    }
   ],
   "source": [
    "theta_v.shape"
   ]
  },
  {
   "cell_type": "code",
   "execution_count": 61,
   "metadata": {
    "collapsed": false
   },
   "outputs": [
    {
     "data": {
      "text/plain": [
       "(180, 360)"
      ]
     },
     "execution_count": 61,
     "metadata": {},
     "output_type": "execute_result"
    }
   ],
   "source": [
    "phi_v.shape"
   ]
  },
  {
   "cell_type": "code",
   "execution_count": 64,
   "metadata": {
    "collapsed": false
   },
   "outputs": [],
   "source": [
    "theta_v_f = theta_v.flatten()"
   ]
  },
  {
   "cell_type": "code",
   "execution_count": 65,
   "metadata": {
    "collapsed": false
   },
   "outputs": [
    {
     "data": {
      "text/plain": [
       "(64800,)"
      ]
     },
     "execution_count": 65,
     "metadata": {},
     "output_type": "execute_result"
    }
   ],
   "source": [
    "theta_v_f.shape"
   ]
  },
  {
   "cell_type": "code",
   "execution_count": null,
   "metadata": {
    "collapsed": true
   },
   "outputs": [],
   "source": []
  }
 ],
 "metadata": {
  "kernelspec": {
   "display_name": "Python 2",
   "language": "python",
   "name": "python2"
  },
  "language_info": {
   "codemirror_mode": {
    "name": "ipython",
    "version": 2
   },
   "file_extension": ".py",
   "mimetype": "text/x-python",
   "name": "python",
   "nbconvert_exporter": "python",
   "pygments_lexer": "ipython2",
   "version": "2.7.11"
  }
 },
 "nbformat": 4,
 "nbformat_minor": 0
}
